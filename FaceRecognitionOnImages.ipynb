{
 "cells": [
  {
   "cell_type": "code",
   "execution_count": null,
   "metadata": {},
   "outputs": [],
   "source": [
    "import os\n",
    "from os.path import exists\n",
    "import cv2\n",
    "from PIL import Image\n",
    "import numpy as np\n",
    "import zipfile\n",
    "from sklearn.metrics import confusion_matrix\n",
    "import seaborn\n",
    "from sklearn.metrics import accuracy_score\n",
    "\n",
    "SRC_PATH = os.getcwd()\n",
    "ASSETS_PATH = os.path.join(SRC_PATH, 'Assets')"
   ]
  },
  {
   "attachments": {},
   "cell_type": "markdown",
   "metadata": {},
   "source": [
    "Image pre-processing"
   ]
  },
  {
   "cell_type": "code",
   "execution_count": null,
   "metadata": {},
   "outputs": [],
   "source": [
    "# Extracting the zip file\n",
    "\n",
    "yale_faces_zip_path = os.path.join(ASSETS_PATH, \"yalefaces.zip\")\n",
    "zip = zipfile.ZipFile(file=yale_faces_zip_path, mode = 'r')\n",
    "zip.extractall(os.path.join(ASSETS_PATH, \"Data\"))\n",
    "zip.close()\n"
   ]
  },
  {
   "cell_type": "code",
   "execution_count": null,
   "metadata": {},
   "outputs": [],
   "source": [
    "def pre_process_images() -> None:\n",
    "    \"\"\"Pre-process images from a folder to be used in the LBPH classifier.\n",
    "\n",
    "    Args:\n",
    "        images_folder_path (str): Path to the folder containing the images.\n",
    "    \"\"\"\n",
    "    image_paths = [os.path.join(ASSETS_PATH, \"Data\", \"yalefaces\", \"train\", img_path) for img_path in os.listdir(os.path.join(ASSETS_PATH, \"Data\", \"yalefaces\", \"train\"))]\n",
    "    faces = []\n",
    "    ids = []\n",
    "    for path in image_paths:\n",
    "        image = Image.open(path).convert('L')\n",
    "        imagem_np = np.array(image, 'uint8')\n",
    "        id = int(os.path.split(path)[1].split('.')[0].replace('subject', ''))\n",
    "        ids.append(id)\n",
    "        faces.append(imagem_np)\n",
    "\n",
    "    return np.array(ids), faces"
   ]
  },
  {
   "cell_type": "code",
   "execution_count": null,
   "metadata": {},
   "outputs": [],
   "source": [
    "ids, faces = pre_process_images()"
   ]
  },
  {
   "cell_type": "code",
   "execution_count": null,
   "metadata": {},
   "outputs": [],
   "source": [
    "from cv2 import Mat\n",
    "\n",
    "def show_image(image_path:str = None, cv2_image:Mat = None, title:str=\"Image\") -> None:\n",
    "    \"\"\"Shows an image in a window with cv2. And waits for a key to be pressed to close the window.\n",
    "    The path to the image or the image object must be provided.\n",
    "\n",
    "    Args:\n",
    "        image_path (str, optional): Path to the image to show. Defaults to None.\n",
    "        cv2_image (Mat, optional): Image object to show. Defaults to None.\n",
    "        title (str, optional): Title of the window containing the shown image. Defaults to \"Image\".\n",
    "    \"\"\"\n",
    "    if image_path is None and cv2_image is None:\n",
    "        raise Exception(\"No image to show\")\n",
    "    \n",
    "    if image_path is not None:\n",
    "        image_to_show = cv2.imread(image_path)\n",
    "    else: \n",
    "        image_to_show = cv2_image\n",
    "    \n",
    "    cv2.imshow(title, image_to_show)\n",
    "    cv2.waitKey(0)\n",
    "    cv2.destroyWindow(title)"
   ]
  },
  {
   "attachments": {},
   "cell_type": "markdown",
   "metadata": {},
   "source": [
    "LBPH training and testing"
   ]
  },
  {
   "cell_type": "code",
   "execution_count": null,
   "metadata": {},
   "outputs": [],
   "source": [
    "# train the classifier\n",
    "\n",
    "if exists(os.path.join(ASSETS_PATH, \"lbph_classifier.yml\")):\n",
    "    print(\"Loading classifier from file\")\n",
    "    lbph_classifier = cv2.face.LBPHFaceRecognizer_create()\n",
    "    lbph_classifier.read(os.path.join(ASSETS_PATH, \"lbph_classifier.yml\"))\n",
    "else:\n",
    "    print(\"Training classifier\")\n",
    "    lbph_classifier = cv2.face.LBPHFaceRecognizer_create(radius=4, neighbors=14, grid_x=9, grid_y=9)\n",
    "    lbph_classifier.train(faces, ids)\n",
    "    lbph_classifier.write(os.path.join(ASSETS_PATH, \"lbph_classifier.yml\"))"
   ]
  },
  {
   "cell_type": "code",
   "execution_count": null,
   "metadata": {},
   "outputs": [],
   "source": [
    "# test the classifier\n",
    "\n",
    "test_image = os.path.join(ASSETS_PATH, \"Data\", \"yalefaces\", \"test\", \"subject05.surprised.gif\")\n",
    "\n",
    "image = Image.open(test_image).convert('L')\n",
    "np_image = np.array(image, 'uint8')\n",
    "\n",
    "prediction = lbph_classifier.predict(np_image)\n",
    "\n",
    "expected_output = int(os.path.split(test_image)[1].split('.')[0].replace('subject', ''))\n",
    "\n",
    "cv2.putText(np_image, 'Pred: ' + str(prediction[0]), (10,30), cv2.FONT_HERSHEY_COMPLEX_SMALL, 1, (0,255,0))\n",
    "cv2.putText(np_image, 'Exp: ' + str(expected_output), (10,50), cv2.FONT_HERSHEY_COMPLEX_SMALL, 1, (0,255,0))\n",
    "\n",
    "show_image(cv2_image=np_image)"
   ]
  },
  {
   "cell_type": "code",
   "execution_count": null,
   "metadata": {},
   "outputs": [],
   "source": [
    "def get_predictions_and_expected_outputs() -> tuple[np.array, np.array]:\n",
    "    \"\"\"Predicts the output of the LBPH classifier for the test images and gets the expected outputs.\n",
    "\n",
    "    Returns:\n",
    "        tuple[np.array, np.array]: Tuple containing the predictions and the expected outputs.\n",
    "    \"\"\"\n",
    "    paths = [os.path.join(ASSETS_PATH, \"Data\", \"yalefaces\", \"test\", f) for f in os.listdir(os.path.join(ASSETS_PATH, \"Data\", \"yalefaces\", \"test\"))]\n",
    "    predictions = []\n",
    "    expected_outputs = []\n",
    "    for path in paths:\n",
    "        image = Image.open(path).convert('L')\n",
    "        np_image = np.array(image, 'uint8')\n",
    "        prediction, _ = lbph_classifier.predict(np_image)\n",
    "        expected_output = int(os.path.split(path)[1].split('.')[0].replace('subject', ''))\n",
    "        \n",
    "        predictions.append(prediction)\n",
    "        expected_outputs.append(expected_output)\n",
    "    print(predictions) \n",
    "    print(expected_outputs)\n",
    "    return np.array(predictions), np.array(expected_outputs)"
   ]
  },
  {
   "cell_type": "code",
   "execution_count": null,
   "metadata": {},
   "outputs": [],
   "source": [
    "# Evaluate the classifier\n",
    "\n",
    "predictions, expected_outputs = get_predictions_and_expected_outputs()\n",
    "accuracy_score(predictions, expected_outputs)\n",
    "cm = confusion_matrix(predictions, expected_outputs)\n",
    "seaborn.heatmap(cm, annot=True);"
   ]
  }
 ],
 "metadata": {
  "kernelspec": {
   "display_name": "Python 3",
   "language": "python",
   "name": "python3"
  },
  "language_info": {
   "codemirror_mode": {
    "name": "ipython",
    "version": 3
   },
   "file_extension": ".py",
   "mimetype": "text/x-python",
   "name": "python",
   "nbconvert_exporter": "python",
   "pygments_lexer": "ipython3",
   "version": "3.10.10"
  },
  "orig_nbformat": 4,
  "vscode": {
   "interpreter": {
    "hash": "0e5b5b920195072d4a4eec1d5ff9e5f87252d2725e2a57da6939cd4fcd91d4cd"
   }
  }
 },
 "nbformat": 4,
 "nbformat_minor": 2
}
